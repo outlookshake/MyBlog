{
 "cells": [
  {
   "cell_type": "markdown",
   "metadata": {},
   "source": [
    "# DICOM信息匿名加密与解密 "
   ]
  },
  {
   "cell_type": "markdown",
   "metadata": {},
   "source": [
    "####            @博动医学影像科技"
   ]
  },
  {
   "cell_type": "markdown",
   "metadata": {},
   "source": [
    " "
   ]
  },
  {
   "cell_type": "markdown",
   "metadata": {},
   "source": [
    "医学检查隐私性监管要求对DICOM字头中有关患者身份的信息进行匿名化处理。本文档介绍影像平台相关的匿名化加密与解密方式。"
   ]
  },
  {
   "cell_type": "markdown",
   "metadata": {},
   "source": [
    "使用pydicom包读取、修改和重装DICOM数据；使用xx包管理加密和解密过程。"
   ]
  },
  {
   "cell_type": "code",
   "execution_count": null,
   "metadata": {},
   "outputs": [],
   "source": [
    "import dicom as dcm\n",
    "# import pydicom as dcm    # version 1.x\n"
   ]
  },
  {
   "cell_type": "markdown",
   "metadata": {},
   "source": [
    "在进行匿名化处理时，保留原拷贝并新建匿名副本，匿名副本相对原拷贝所做的修改为："
   ]
  },
  {
   "cell_type": "markdown",
   "metadata": {},
   "source": [
    "- 新增标签：(0002, 0003) MediaStorageSOPInstanceUID，其值为文件存储路径的唯一映射\n",
    "- 修改标签：(0008, 0018) SOPInstanceUID, 使其值等于(0002, 0003)\n",
    "- 以下标签显示为空：(0008, 0020) StudyDate, (0008, 0023) ContentDate, (0008, 0030) StudyTime, (0008, 0033) ContentTime, \n",
    "- 删除以下标签：(0008, 0021) SeriesDate, (0008, 0022) AcquisitionDate, (0008, 0031) SeriesTime, (0008, 0032) AcquisitionTime, (0008, 0080) InstitutionName, (0008, 0081) InstitutionAddress, (0008,1040) InstitutionalDepartmentName, (0008,1048) PhysiciansOfRecord, (0008,1050) PerformingPhysicianName, (0008,1060) NameOfPhysiciansReadingStudy, (0008,1070) OperatorsName, (0008,1080) AdmittingDiagnosesDescription\n",
    "- 修改标签：(0010, 0010) PatientName, 改为'Anonymized'+编号\n",
    "- 修改标签：(0010, 0020) PatientID, 改为特定匿名ID\n",
    "- 以下标签显示为空：(0010, 0030) PatientBirthDate, (0010, 0040) PatientSex, (0020, 0010) StudyID\n",
    "- 删除以下标签：(0010, 0032) PatientBirthTime, (0010, 1001) OtherPatientNames, (0010, 1010) PatientAge, (0010, 1020) PatientSize, (0010, 1030) PatientWeight, (0010, 2160) EthnicGroup, (0010, 2180) Occupation, (0010, 21b0) AdditionalPatientHistory, (0010, 4000) PatientComments, (0018, 1000) DeviceSerialNumber, (0018, 1030) ProtocolName\n",
    "- 新增标签：(0012, 0062) PatientIdentityRemoved, 值为YES\n",
    "- 修改标签：(0020, 000d) StudyInstanceUID, (0020, 000e) SeriesInstanceUID, 分别改为特定匿名UID\n"
   ]
  },
  {
   "cell_type": "markdown",
   "metadata": {},
   "source": [
    " "
   ]
  },
  {
   "cell_type": "markdown",
   "metadata": {},
   "source": [
    "载入示例DICOM文件"
   ]
  },
  {
   "cell_type": "code",
   "execution_count": null,
   "metadata": {},
   "outputs": [],
   "source": [
    "case = dcm.read_file(\"examples/LAD_IV_HyperView1.dcm\")\n"
   ]
  },
  {
   "cell_type": "markdown",
   "metadata": {},
   "source": [
    "执行匿名化修改"
   ]
  },
  {
   "cell_type": "code",
   "execution_count": null,
   "metadata": {},
   "outputs": [],
   "source": [
    "case.MediaStorageSOPInstanceUID = '1.2.3'\n",
    "case.SOPInstanceUID = '1.2.3'\n",
    "case.StudyDate = case.ContentDate = case.StudyTime = case.ContentTime = ''\n",
    "case.PatientName = 'Anonymized1'\n",
    "case.PatientID = '1.2.3.4'\n",
    "case.PatientBirthDate = case.PatientSex = case.StudyID = ''\n",
    "case.PatientIdentityRemoved = 'YES'\n",
    "case.StudyInstanceUID = '1.2.3.4.5'\n",
    "case.SeriesInstanceUID = '1.2.3.4.5.6'\n"
   ]
  },
  {
   "cell_type": "code",
   "execution_count": null,
   "metadata": {},
   "outputs": [],
   "source": [
    "del case.SeriesDate, case.AcquisitionDate, case.SeriesTime, case.AcquisitionTime, \\\n",
    "    case.InstitutionName, case.InstitutionAddress, case.InstitutionalDepartmentName, case.PhysiciansOfRecord, \\\n",
    "    case.PerformingPhysicianName, case.NameOfPhysiciansReadingStudy, case.OperatorsName, case.AdmittingDiagnosesDescription\n",
    "\n",
    "del case.ImageTransformationMatrix, case.ImageTranslationVector #原文件格式错误\n",
    "\n",
    "del case.PatientBirthTime, case.OtherPatientNames, case.PatientAge, case.PatientSize, \\\n",
    "    case.PatientWeight, case.EthnicGroup, case.Occupation, case.AdditionalPatientHistory, \\\n",
    "    case.PatientComments, case.DeviceSerialNumber, case.ProtocolName\n",
    "\n",
    "case.remove_private_tags() #移除全部私有元素\n"
   ]
  },
  {
   "cell_type": "markdown",
   "metadata": {},
   "source": [
    " 显示处理结果"
   ]
  },
  {
   "cell_type": "code",
   "execution_count": null,
   "metadata": {},
   "outputs": [],
   "source": [
    "# del case.ImageTransformationMatrix, case.ImageTranslationVector #原文件格式错误\n",
    "case"
   ]
  },
  {
   "cell_type": "markdown",
   "metadata": {},
   "source": [
    "保存结果"
   ]
  },
  {
   "cell_type": "code",
   "execution_count": null,
   "metadata": {},
   "outputs": [],
   "source": [
    "case.save_as(\"examples/\" + case[0x0008, 0x1140][0][0x0008, 0x1155].value + \".dcm\")"
   ]
  },
  {
   "cell_type": "markdown",
   "metadata": {},
   "source": [
    " "
   ]
  },
  {
   "cell_type": "markdown",
   "metadata": {},
   "source": [
    "为DICOM文件进行匿名化加密时，可使用MD5方式对各级UID加密，使加密后仍返回一个独一码。"
   ]
  },
  {
   "cell_type": "code",
   "execution_count": null,
   "metadata": {},
   "outputs": [],
   "source": [
    "import hashlib\n",
    "\n",
    "data = '1234'\n",
    "data_md5 = hashlib.md5(data.encode('utf-8'))\n",
    "print (data_md5.hexdigest())"
   ]
  },
  {
   "cell_type": "markdown",
   "metadata": {},
   "source": [
    "MD5本身为不可逆加密。为了能够按匿名化UID取回原来的UID，需要在数据库中保存为一个条目，通过索引数据库的方式找回原UID。具体实现见项目代码。"
   ]
  },
  {
   "cell_type": "markdown",
   "metadata": {},
   "source": [
    " "
   ]
  },
  {
   "cell_type": "code",
   "execution_count": null,
   "metadata": {},
   "outputs": [],
   "source": []
  }
 ],
 "metadata": {
  "kernelspec": {
   "display_name": "Python 3",
   "language": "python",
   "name": "python3"
  },
  "language_info": {
   "codemirror_mode": {
    "name": "ipython",
    "version": 3
   },
   "file_extension": ".py",
   "mimetype": "text/x-python",
   "name": "python",
   "nbconvert_exporter": "python",
   "pygments_lexer": "ipython3",
   "version": "3.6.4"
  }
 },
 "nbformat": 4,
 "nbformat_minor": 2
}
